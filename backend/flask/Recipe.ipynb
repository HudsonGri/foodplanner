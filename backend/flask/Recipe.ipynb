{
 "cells": [
  {
   "cell_type": "code",
   "execution_count": 6,
   "id": "e1982f89-c9a5-4064-8335-0fa4cd9176e3",
   "metadata": {},
   "outputs": [
    {
     "name": "stdout",
     "output_type": "stream",
     "text": [
      "{'results': [{'id': 782585, 'title': 'Cannellini Bean and Asparagus Salad with Mushrooms', 'image': 'https://spoonacular.com/recipeImages/782585-312x231.jpg', 'imageType': 'jpg'}, {'id': 716426, 'title': 'Cauliflower, Brown Rice, and Vegetable Fried Rice', 'image': 'https://spoonacular.com/recipeImages/716426-312x231.jpg', 'imageType': 'jpg'}, {'id': 715497, 'title': 'Berry Banana Breakfast Smoothie', 'image': 'https://spoonacular.com/recipeImages/715497-312x231.jpg', 'imageType': 'jpg'}, {'id': 715415, 'title': 'Red Lentil Soup with Chicken and Turnips', 'image': 'https://spoonacular.com/recipeImages/715415-312x231.jpg', 'imageType': 'jpg'}, {'id': 716406, 'title': 'Asparagus and Pea Soup: Real Convenience Food', 'image': 'https://spoonacular.com/recipeImages/716406-312x231.jpg', 'imageType': 'jpg'}, {'id': 644387, 'title': 'Garlicky Kale', 'image': 'https://spoonacular.com/recipeImages/644387-312x231.jpg', 'imageType': 'jpg'}, {'id': 715446, 'title': 'Slow Cooker Beef Stew', 'image': 'https://spoonacular.com/recipeImages/715446-312x231.jpg', 'imageType': 'jpg'}, {'id': 782601, 'title': 'Red Kidney Bean Jambalaya', 'image': 'https://spoonacular.com/recipeImages/782601-312x231.jpg', 'imageType': 'jpg'}, {'id': 795751, 'title': 'Chicken Fajita Stuffed Bell Pepper', 'image': 'https://spoonacular.com/recipeImages/795751-312x231.jpg', 'imageType': 'jpg'}, {'id': 766453, 'title': \"Hummus and Za'atar\", 'image': 'https://spoonacular.com/recipeImages/766453-312x231.jpg', 'imageType': 'jpg'}], 'offset': 0, 'number': 10, 'totalResults': 5221}\n"
     ]
    }
   ],
   "source": [
    "import requests\n",
    "\n",
    "days = ['Monday', 'Tuesday', 'Wednesday', 'Thursday', 'Friday', 'Saturday','Sunday']\n",
    "\n",
    "data = {\n",
    "    'query' : 'pasta',\n",
    "    'cuisine' : 'italian',\n",
    "    'number' : 20\n",
    "}\n",
    "\n",
    "response = requests.get(\"https://api.spoonacular.com/recipes/complexSearch?apiKey=4cc1c87c33ae4d3a90cbee6660bbe296\", data=data)\n",
    "\n",
    "print(response.json())"
   ]
  },
  {
   "cell_type": "code",
   "execution_count": 12,
   "id": "fb38042e-4643-4c3c-820d-caf12ddeda4d",
   "metadata": {},
   "outputs": [
    {
     "data": {
      "text/plain": [
       "10"
      ]
     },
     "execution_count": 12,
     "metadata": {},
     "output_type": "execute_result"
    }
   ],
   "source": [
    "data = response.json()\n",
    "\n",
    "len(data['results'])"
   ]
  },
  {
   "cell_type": "code",
   "execution_count": 16,
   "id": "98bf4208-e2a8-4d0d-8ded-54cb9a985f06",
   "metadata": {},
   "outputs": [],
   "source": [
    "def getDetails(recipe_id):\n",
    "    \n",
    "    response = requests.get(f\"https://api.spoonacular.com/recipes/{str(recipe_id)}/information?apiKey=4cc1c87c33ae4d3a90cbee6660bbe296\")\n",
    "    \n",
    "    data = response.json()\n",
    "    ingredient_list = []\n",
    "    for item in data['extendedIngredients']:\n",
    "        ingredient_list.append(item['name'])\n",
    "    data, ingredient_list"
   ]
  },
  {
   "cell_type": "code",
   "execution_count": null,
   "id": "89fad3ad-ca9c-4bc8-ae34-6f1e28b8bc86",
   "metadata": {},
   "outputs": [],
   "source": []
  },
  {
   "attachments": {},
   "cell_type": "markdown",
   "id": "662d7b0f",
   "metadata": {},
   "source": [
    "Get list of maybe 30 options of recipes for the week given the preferences\n",
    "\n",
    "Select n recipes in the list with the most overlap in ingredients (n is how many per week they want to cook)\n",
    "\n",
    "Provide json of this"
   ]
  }
 ],
 "metadata": {
  "kernelspec": {
   "display_name": "Python 3 (ipykernel)",
   "language": "python",
   "name": "python3"
  },
  "language_info": {
   "codemirror_mode": {
    "name": "ipython",
    "version": 3
   },
   "file_extension": ".py",
   "mimetype": "text/x-python",
   "name": "python",
   "nbconvert_exporter": "python",
   "pygments_lexer": "ipython3",
   "version": "3.10.9"
  }
 },
 "nbformat": 4,
 "nbformat_minor": 5
}
